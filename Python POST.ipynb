{
 "cells": [
  {
   "cell_type": "code",
   "execution_count": 1,
   "id": "64927f53-6889-4b43-9582-e8f1a41bf1de",
   "metadata": {},
   "outputs": [
    {
     "name": "stderr",
     "output_type": "stream",
     "text": [
      "/Users/edward/Library/Python/3.9/lib/python/site-packages/urllib3/__init__.py:34: NotOpenSSLWarning: urllib3 v2 only supports OpenSSL 1.1.1+, currently the 'ssl' module is compiled with 'LibreSSL 2.8.3'. See: https://github.com/urllib3/urllib3/issues/3020\n",
      "  warnings.warn(\n"
     ]
    },
    {
     "data": {
      "text/plain": [
       "{'args': {},\n",
       " 'data': '',\n",
       " 'files': {},\n",
       " 'form': {},\n",
       " 'headers': {'Accept': '*/*',\n",
       "  'Accept-Encoding': 'gzip, deflate',\n",
       "  'Content-Length': '0',\n",
       "  'Host': 'httpbin.org',\n",
       "  'User-Agent': 'python-requests/2.31.0',\n",
       "  'X-Amzn-Trace-Id': 'Root=1-65aee339-010155eb1e55b04667d51a94'},\n",
       " 'json': None,\n",
       " 'origin': '107.144.136.35',\n",
       " 'url': 'http://httpbin.org/post'}"
      ]
     },
     "execution_count": 1,
     "metadata": {},
     "output_type": "execute_result"
    }
   ],
   "source": [
    "import requests\n",
    "\n",
    "response = requests.post('http://httpbin.org/post')\n",
    "response.json()"
   ]
  },
  {
   "attachments": {},
   "cell_type": "markdown",
   "id": "fecef20b-4647-4efc-8276-2b5845eb7a85",
   "metadata": {},
   "source": [
    "# Request"
   ]
  },
  {
   "cell_type": "code",
   "execution_count": 2,
   "id": "ddd8fa6c-1cf1-4c9f-849b-1a86f561f7be",
   "metadata": {},
   "outputs": [
    {
     "name": "stdout",
     "output_type": "stream",
     "text": [
      "POST\n",
      "http://httpbin.org/post\n",
      "None\n"
     ]
    }
   ],
   "source": [
    "request = response.request\n",
    "\n",
    "print(request.method)\n",
    "print(request.url)\n",
    "print(request.body)"
   ]
  },
  {
   "cell_type": "code",
   "execution_count": 3,
   "id": "3e40b7e9-147d-43e6-90a3-2631110db8cb",
   "metadata": {},
   "outputs": [
    {
     "name": "stdout",
     "output_type": "stream",
     "text": [
      "{\n",
      "  \"User-Agent\": \"python-requests/2.31.0\",\n",
      "  \"Accept-Encoding\": \"gzip, deflate\",\n",
      "  \"Accept\": \"*/*\",\n",
      "  \"Connection\": \"keep-alive\",\n",
      "  \"Content-Length\": \"0\"\n",
      "}\n"
     ]
    }
   ],
   "source": [
    "import json\n",
    "\n",
    "print(json.dumps(dict(request.headers), indent=2))"
   ]
  },
  {
   "cell_type": "markdown",
   "id": "f2212668-5c07-4403-ac86-f8cd0393d5ba",
   "metadata": {},
   "source": [
    "# Response"
   ]
  },
  {
   "cell_type": "code",
   "execution_count": 4,
   "id": "41e3cc46-5ba2-4e09-a51f-661eb466064c",
   "metadata": {},
   "outputs": [
    {
     "name": "stdout",
     "output_type": "stream",
     "text": [
      "{\n",
      "  \"Date\": \"Mon, 22 Jan 2024 21:50:49 GMT\",\n",
      "  \"Content-Type\": \"application/json\",\n",
      "  \"Content-Length\": \"399\",\n",
      "  \"Connection\": \"keep-alive\",\n",
      "  \"Server\": \"gunicorn/19.9.0\",\n",
      "  \"Access-Control-Allow-Origin\": \"*\",\n",
      "  \"Access-Control-Allow-Credentials\": \"true\"\n",
      "}\n"
     ]
    }
   ],
   "source": [
    "import json\n",
    "\n",
    "print(json.dumps(dict(response.headers), indent=2))"
   ]
  },
  {
   "cell_type": "code",
   "execution_count": 5,
   "id": "d6aee815-6b86-4a40-b954-6d2ce55a83ce",
   "metadata": {},
   "outputs": [
    {
     "data": {
      "text/plain": [
       "200"
      ]
     },
     "execution_count": 5,
     "metadata": {},
     "output_type": "execute_result"
    }
   ],
   "source": [
    "response.status_code"
   ]
  }
 ],
 "metadata": {
  "kernelspec": {
   "display_name": "Python 3 (ipykernel)",
   "language": "python",
   "name": "python3"
  },
  "language_info": {
   "codemirror_mode": {
    "name": "ipython",
    "version": 3
   },
   "file_extension": ".py",
   "mimetype": "text/x-python",
   "name": "python",
   "nbconvert_exporter": "python",
   "pygments_lexer": "ipython3",
   "version": "3.9.6"
  }
 },
 "nbformat": 4,
 "nbformat_minor": 5
}
